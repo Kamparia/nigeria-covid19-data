{
 "cells": [
  {
   "cell_type": "markdown",
   "metadata": {},
   "source": [
    "# Nigeria COVID-19 Data Prep Tool"
   ]
  },
  {
   "cell_type": "markdown",
   "metadata": {},
   "source": [
    "### 0. Import Python module"
   ]
  },
  {
   "cell_type": "code",
   "execution_count": 1,
   "metadata": {},
   "outputs": [],
   "source": [
    "# import modules\n",
    "import datetime\n",
    "from datetime import date, timedelta\n",
    "\n",
    "import numpy as np\n",
    "import pandas as pd\n",
    "\n",
    "import geopandas as gpd\n",
    "from geopandas import GeoDataFrame as gdf\n",
    "\n",
    "import fiona\n",
    "import json\n",
    "\n",
    "import lxml\n",
    "import requests\n",
    "from datetime import date\n",
    "from bs4 import BeautifulSoup"
   ]
  },
  {
   "cell_type": "markdown",
   "metadata": {},
   "source": [
    "### 1. Scrape data from website"
   ]
  },
  {
   "cell_type": "code",
   "execution_count": null,
   "metadata": {},
   "outputs": [],
   "source": [
    "# make request to website for data\n",
    "res = requests.get('https://covid19.ncdc.gov.ng/')\n",
    "status_code = res.status_code\n",
    "text = res.text\n",
    "\n",
    "if status_code == 200:\n",
    "    soup = BeautifulSoup(text, 'lxml')\n",
    "    table_html = soup.find_all('table', {'id':'custom1'})\n",
    "    table_df = pd.read_html(str(table_html))[0]\n",
    "    table_df = table_df.rename(columns={'States Affected': 'STATE', 'No. of Cases (Lab Confirmed)': 'CASES', 'No. of Cases (on admission)': 'HOSPITALISED', 'No. Discharged': 'RECOVERED', 'No. of Deaths': 'DEATHS'})\n",
    "    \n",
    "    # export table2 to csv\n",
    "    # file_name = \"ncdc_covid_\"+ str(date.today()) +\".csv\"\n",
    "    # table_df.to_csv(file_name, index=False, encoding='utf-8')\n",
    "    # print(table_df)\n",
    "else:\n",
    "    print(\"Unable to fetch data from URL.\")"
   ]
  },
  {
   "cell_type": "code",
   "execution_count": null,
   "metadata": {},
   "outputs": [],
   "source": [
    "# read states shapefile data\n",
    "states_shp_df = gpd.read_file(\"../data/shp/ncdc-covid19-states.shp\")\n",
    "\n",
    "# select columns\n",
    "states_shp_df = states_shp_df[[\"OBJECTID\", \"CODE\", \"STATE\", \"ADMIN_NAME\", \"GEO_ZONE\", \"AREA_SQKM\", \"POP_2016\", \"CENTER_Y\", \"CENTER_X\",  \"SCREENED\", \"ACTIVE\", \"geometry\"]]\n",
    "\n",
    "# merge dataframes\n",
    "df = pd.merge(states_shp_df, table_df, on='STATE', how='outer')\n",
    "\n",
    "# remove NAN\n",
    "df['CASES'] = df['CASES'].replace(np.nan, 0)\n",
    "df['HOSPITALISED'] = df['HOSPITALISED'].replace(np.nan, 0)\n",
    "df['RECOVERED'] = df['RECOVERED'].replace(np.nan, 0)\n",
    "df['DEATHS'] = df['DEATHS'].replace(np.nan, 0)\n",
    "\n",
    "# change columns data type\n",
    "df = df.astype({\"CASES\": int, \"HOSPITALISED\": int, \"RECOVERED\": int, \"DEATHS\": int})\n",
    "\n",
    "# reorder columns\n",
    "df = df[[\"OBJECTID\", \"CODE\", \"STATE\", \"ADMIN_NAME\", \"GEO_ZONE\", \"AREA_SQKM\", \"POP_2016\", \"CENTER_Y\", \"CENTER_X\", \"CASES\", \"HOSPITALISED\", \"RECOVERED\", \"DEATHS\", \"SCREENED\", \"ACTIVE\", \"geometry\"]]\n",
    "\n",
    "# convert dataframe to geodataframe\n",
    "gdf = gpd.GeoDataFrame(df, geometry='geometry')\n",
    "\n",
    "# set projection\n",
    "gdf.crs = \"EPSG:4326\"\n",
    "\n",
    "# export to shp\n",
    "gdf.to_file(\"../data/shp/ncdc-covid19-states.shp\")\n",
    "\n",
    "# view data\n",
    "gdf.head()"
   ]
  },
  {
   "cell_type": "markdown",
   "metadata": {},
   "source": [
    "### 2. Prep States SHP data"
   ]
  },
  {
   "cell_type": "code",
   "execution_count": null,
   "metadata": {},
   "outputs": [],
   "source": [
    "# read states shapefile data\n",
    "states_shp_df = gpd.read_file(\"../data/shp/ncdc-covid19-states.shp\")\n",
    "\n",
    "# calculate number of ACTIVE cases\n",
    "states_shp_df['ACTIVE'] = states_shp_df['CASES'] - (states_shp_df['RECOVERED'] + states_shp_df['DEATHS'])\n",
    "\n",
    "# reorder columns\n",
    "states_shp_df = states_shp_df[[\"OBJECTID\", \"CODE\", \"STATE\", \"ADMIN_NAME\", \"GEO_ZONE\", \"AREA_SQKM\", \"POP_2016\", \"CENTER_Y\", \"CENTER_X\", \"CASES\", \"DEATHS\", \"RECOVERED\", \"ACTIVE\", \"SCREENED\", \"geometry\"]] \n",
    "\n",
    "# export to shp\n",
    "states_shp_df.to_file(\"../data/shp/ncdc-covid19-states.shp\")\n",
    "\n",
    "# export to geojson\n",
    "states_shp_df.to_file(\"../data/geojson/ncdc-covid19-states.geojson\", driver='GeoJSON')\n",
    "\n",
    "# export to csv\n",
    "states_shp_df.rename(columns={'CENTER_Y':'LAT', 'CENTER_X':'LONG'}, inplace=True)\n",
    "states_shp_df.drop('geometry',axis=1).to_csv(\"../data/csv/ncdc-covid19-states.csv\") \n",
    "\n",
    "# export to json\n",
    "states_shp_df = pd.read_csv(\"../data/csv/ncdc-covid19-states.csv\", index_col=0)\n",
    "states_shp_df.to_json(\"../data/json/ncdc-covid19-states.json\", orient='records')\n",
    "\n",
    "# view data\n",
    "states_shp_df.head()"
   ]
  },
  {
   "cell_type": "markdown",
   "metadata": {},
   "source": [
    "### 3. Prep DAILYUPDATES csv data"
   ]
  },
  {
   "cell_type": "code",
   "execution_count": null,
   "metadata": {},
   "outputs": [],
   "source": [
    "# load dailyupdates csv data\n",
    "df = pd.read_csv(\"../data/csv/ncdc-covid19-dailyupdates.csv\")\n",
    "\n",
    "# read states shapefile data\n",
    "states_shp_df = gpd.read_file(\"../data/shp/ncdc-covid19-states.shp\")\n",
    "\n",
    "values = []\n",
    "\n",
    "# dates\n",
    "today_date = date.today().strftime(\"%m/%d/%Y\")\n",
    "yesterday = (date.today() - timedelta(days=1)).strftime(\"%m/%d/%Y\")\n",
    "values.append(str(yesterday))\n",
    "\n",
    "# delete new_row if exists\n",
    "if str(yesterday) in df.index:\n",
    "    df.drop(str(yesterday))\n",
    "\n",
    "# values\n",
    "prev_cases = int(df[-1:]['TOTAL CONFIRMED'])\n",
    "prev_deaths = int(df[-1:]['DEATHS'])\n",
    "prev_recovered = int(df[-1:]['RECOVERED'])\n",
    "\n",
    "# TOTAL CASES\n",
    "total_cases = sum(states_shp_df['CASES'])\n",
    "values.append(total_cases)\n",
    "\n",
    "# NEW CASES\n",
    "new_cases = total_cases - prev_cases\n",
    "values.append(new_cases)\n",
    "\n",
    "# TOTAL ACTIVE\n",
    "total_active = sum(states_shp_df['ACTIVE'])\n",
    "values.append(total_active)\n",
    "\n",
    "# TOTAL DEATHS\n",
    "total_deaths = sum(states_shp_df['DEATHS'])\n",
    "values.append(total_deaths)\n",
    "\n",
    "# TOTAL RECOVERED\n",
    "total_recovered = sum(states_shp_df['RECOVERED'])\n",
    "values.append(total_recovered)\n",
    "\n",
    "# DAILY DEATHS\n",
    "new_deaths = total_deaths - prev_deaths\n",
    "values.append(new_deaths)\n",
    "\n",
    "# DAILY RECOVERED\n",
    "new_recovered = total_recovered - prev_recovered\n",
    "values.append(new_recovered)\n",
    "\n",
    "# add new row to df\n",
    "df.loc[len(df)] = values\n",
    "\n",
    "# export to csv\n",
    "df.to_csv('../data/csv/ncdc-covid19-dailyupdates.csv', index=False)\n",
    "\n",
    "# view data\n",
    "df.tail()"
   ]
  },
  {
   "cell_type": "markdown",
   "metadata": {},
   "source": [
    "### 4. Prep States Daily CASES csv data"
   ]
  },
  {
   "cell_type": "code",
   "execution_count": null,
   "metadata": {},
   "outputs": [],
   "source": [
    "# update daily cases from shapefile\n",
    "df = pd.read_csv(\"../data/csv/ncdc-covid19-states-daily-cases.csv\", index_col=0)\n",
    "states_shp_df = gpd.read_file(\"../data/shp/ncdc-covid19-states.shp\")\n",
    "\n",
    "# dates\n",
    "today_date = date.today().strftime(\"%m/%d/%Y\")\n",
    "yesterday = (date.today() - timedelta(days=1)).strftime(\"%m/%d/%Y\")\n",
    "values.append(str(yesterday))\n",
    "\n",
    "# delete new_row if exists\n",
    "if str(yesterday) in df.index:\n",
    "    df.drop(str(yesterday))\n",
    "    \n",
    "# create array of all new cases\n",
    "values = []\n",
    "for index, row in states_shp_df.iterrows():\n",
    "    # values.append(str(today_date))\n",
    "    values.append(row['CASES'])\n",
    "\n",
    "# add new row to df\n",
    "df.loc[str(yesterday)] = values\n",
    "\n",
    "# convert the 'Date' column to datetime format \n",
    "df = df.reset_index()\n",
    "df['Date']= pd.to_datetime(df['Date']) \n",
    "\n",
    "# export to csv\n",
    "df.to_csv('../data/csv/ncdc-covid19-states-daily-cases.csv', index=False)\n",
    "\n",
    "# view data\n",
    "df.tail()"
   ]
  },
  {
   "cell_type": "markdown",
   "metadata": {},
   "source": [
    "### 5. Prep States Daily RECOVERED csv data"
   ]
  },
  {
   "cell_type": "code",
   "execution_count": null,
   "metadata": {},
   "outputs": [],
   "source": [
    "# update daily cases from shapefile\n",
    "df = pd.read_csv(\"../data/csv/ncdc-covid19-states-daily-recovered.csv\", index_col=0)\n",
    "states_shp_df = gpd.read_file(\"../data/shp/ncdc-covid19-states.shp\")\n",
    "\n",
    "# dates\n",
    "today_date = date.today().strftime(\"%m/%d/%Y\")\n",
    "yesterday = (date.today() - timedelta(days=1)).strftime(\"%m/%d/%Y\")\n",
    "values.append(str(yesterday))\n",
    "\n",
    "# delete new_row if exists\n",
    "if str(yesterday) in df.index:\n",
    "    df.drop(str(yesterday))\n",
    "\n",
    "# create array of all new cases\n",
    "values = []\n",
    "for index, row in states_shp_df.iterrows():\n",
    "    values.append(row['RECOVERED'])\n",
    "\n",
    "# add new row to df\n",
    "df.loc[str(yesterday)] = values\n",
    "\n",
    "# export to csv\n",
    "df.to_csv('../data/csv/ncdc-covid19-states-daily-recovered.csv')\n",
    "\n",
    "# view data\n",
    "df.tail()"
   ]
  },
  {
   "cell_type": "markdown",
   "metadata": {},
   "source": [
    "### 6. Prep States Daily DEATHS csv data"
   ]
  },
  {
   "cell_type": "code",
   "execution_count": null,
   "metadata": {},
   "outputs": [],
   "source": [
    "# update daily cases from shapefile\n",
    "df = pd.read_csv(\"../data/csv/ncdc-covid19-states-daily-deaths.csv\", index_col=0)\n",
    "states_shp_df = gpd.read_file(\"../data/shp/ncdc-covid19-states.shp\")\n",
    "\n",
    "# dates\n",
    "today_date = date.today().strftime(\"%m/%d/%Y\")\n",
    "yesterday = (date.today() - timedelta(days=1)).strftime(\"%m/%d/%Y\")\n",
    "values.append(str(yesterday))\n",
    "\n",
    "# delete new_row if exists\n",
    "if str(yesterday) in df.index:\n",
    "    df.drop(str(yesterday))\n",
    "\n",
    "# create array of all new cases\n",
    "values = []\n",
    "for index, row in states_shp_df.iterrows():\n",
    "    values.append(row['DEATHS'])\n",
    "\n",
    "# add new row to df\n",
    "df.loc[str(yesterday)] = values\n",
    "\n",
    "# export to csv\n",
    "df.to_csv('../data/csv/ncdc-covid19-states-daily-deaths.csv')\n",
    "\n",
    "# view data\n",
    "df.tail()"
   ]
  },
  {
   "cell_type": "code",
   "execution_count": null,
   "metadata": {},
   "outputs": [],
   "source": []
  }
 ],
 "metadata": {
  "kernelspec": {
   "display_name": "Python 3",
   "language": "python",
   "name": "python3"
  },
  "language_info": {
   "codemirror_mode": {
    "name": "ipython",
    "version": 3
   },
   "file_extension": ".py",
   "mimetype": "text/x-python",
   "name": "python",
   "nbconvert_exporter": "python",
   "pygments_lexer": "ipython3",
   "version": "3.8.3"
  }
 },
 "nbformat": 4,
 "nbformat_minor": 2
}
